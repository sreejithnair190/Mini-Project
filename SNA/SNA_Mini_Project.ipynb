{
  "nbformat": 4,
  "nbformat_minor": 0,
  "metadata": {
    "colab": {
      "name": "SNA_Mini_Project.ipynb",
      "provenance": []
    },
    "kernelspec": {
      "name": "python3",
      "display_name": "Python 3"
    },
    "language_info": {
      "name": "python"
    }
  },
  "cells": [
    {
      "cell_type": "code",
      "source": [
        "from textblob import TextBlob\n",
        "import tweepy\n",
        "import matplotlib.pyplot as plt"
      ],
      "metadata": {
        "id": "DCtc3jdNuBXL"
      },
      "execution_count": 62,
      "outputs": []
    },
    {
      "cell_type": "code",
      "source": [
        "consumerKey = 'qHDlZqswgH4LoA8cUAiEKEXQs'\n",
        "consumerSecret = 'Wu9WL4PLJWj41Iu2hRfezqwChmHOVoYiMHz6NFu7ZMY1QNtgdq'\n",
        "accessToken = '1512020358597324800-89OgoCg5zK8P4zI5mjCnvJ3tlUe0QJ'\n",
        "accessTokenSecret = 'YjiwwCMxZOUuGXbUxR08F2g48faizwRMtUiqrQ9sw36Xw'\n",
        "\n",
        "auth = tweepy.OAuthHandler(consumer_key=consumerKey,consumer_secret=consumerSecret)\n",
        "auth.set_access_token(accessToken,accessTokenSecret)\n",
        "api = tweepy.API(auth)"
      ],
      "metadata": {
        "id": "NpdEqACmuLO_"
      },
      "execution_count": 63,
      "outputs": []
    },
    {
      "cell_type": "code",
      "source": [
        "def percentage(part, whole):\n",
        "  temp = 100 * float(part) / float(whole)\n",
        "  return format(temp, '.2f')"
      ],
      "metadata": {
        "id": "IHNlfLMB1-iE"
      },
      "execution_count": 65,
      "outputs": []
    },
    {
      "cell_type": "code",
      "source": [
        "searchTerm = input(\"Enter the keyword to search about: \")\n",
        "NoOfTerms = int(input(\"Enter how many tweets to search: \"))\n",
        "tweets = tweepy.Cursor(api.search, q=searchTerm, lang = \"en\").items(NoOfTerms)"
      ],
      "metadata": {
        "colab": {
          "base_uri": "https://localhost:8080/"
        },
        "id": "AnnQEfOguapA",
        "outputId": "37590ceb-6d88-4e5a-cdd9-4500f8ad737d"
      },
      "execution_count": 66,
      "outputs": [
        {
          "name": "stdout",
          "output_type": "stream",
          "text": [
            "Enter the keyword to search about: cricket\n",
            "Enter how many tweets to search: 200\n"
          ]
        }
      ]
    },
    {
      "cell_type": "code",
      "source": [
        "positive, negative, neutral, polarity = 0,0,0,0\n",
        "\n",
        "for tweet in tweets:\n",
        "  analysis = TextBlob(tweet.text)\n",
        "  polarity += analysis.sentiment.polarity\n",
        "\n",
        "  if (analysis.sentiment.polarity == 0.00): \n",
        "      neutral += 1\n",
        "  \n",
        "  elif (analysis.sentiment.polarity > 0.00):\n",
        "      positive += 1\n",
        "  \n",
        "  elif (analysis.sentiment.polarity < 0.00):\n",
        "      negative += 1\n"
      ],
      "metadata": {
        "id": "3aIRdJpxzQF3"
      },
      "execution_count": 67,
      "outputs": []
    },
    {
      "cell_type": "code",
      "source": [
        "positive = percentage(positive,NoOfTerms)\n",
        "negative = percentage(negative,NoOfTerms)\n",
        "neutral = percentage(neutral,NoOfTerms)\n",
        "\n",
        "\n",
        "\n",
        "polarity = polarity / NoOfTerms\n",
        "\n",
        "print(\"How people are reacting on \" + searchTerm + \" by analyzing \" + str(NoOfTerms) + \" tweets.\")\n",
        "print()\n",
        "print(\"General Report: \")\n",
        "\n",
        "if (analysis.sentiment.polarity == 0): \n",
        "    print(\"Neutral\")\n",
        "\n",
        "elif (analysis.sentiment.polarity > 0):\n",
        "    print(\"Positive\")\n",
        "\n",
        "elif (analysis.sentiment.polarity < 0):\n",
        "    print(\"Negative\")"
      ],
      "metadata": {
        "colab": {
          "base_uri": "https://localhost:8080/"
        },
        "id": "iQQ940QD3nid",
        "outputId": "20907120-2b81-45de-e56b-3da716bf0f05"
      },
      "execution_count": 68,
      "outputs": [
        {
          "output_type": "stream",
          "name": "stdout",
          "text": [
            "How people are reacting on cricket by analyzing 200 tweets.\n",
            "\n",
            "General Report: \n",
            "Positive\n"
          ]
        }
      ]
    },
    {
      "cell_type": "code",
      "source": [
        "from matplotlib import patches\n",
        "labels = ['Positive [' + str(positive) + '%]','Neutral [' + str(neutral) + '%]','Negative [' + str(negative) + '%]']\n",
        "sizes = [positive, neutral, negative]\n",
        "colors = ['yellowgreen','gold', 'red']\n",
        "patches, text = plt.pie(sizes, colors=colors, startangle=90)\n",
        "plt.legend(patches, labels, loc=\"best\")\n",
        "plt.title('How people are reacting on ' + searchTerm + ' by analyzing ' + str(NoOfTerms) + ' Tweets.')\n",
        "plt.axis('equal')\n",
        "plt.tight_layout()\n",
        "plt.show()"
      ],
      "metadata": {
        "colab": {
          "base_uri": "https://localhost:8080/",
          "height": 297
        },
        "id": "DHNRLbym4wwj",
        "outputId": "79ac6d93-a442-44b0-dfd0-3ce2fe5da4fd"
      },
      "execution_count": 70,
      "outputs": [
        {
          "output_type": "display_data",
          "data": {
            "text/plain": [
              "<Figure size 432x288 with 1 Axes>"
            ],
            "image/png": "[encoded data removed]"
          },
          "metadata": {}
        }
      ]
    }
  ]
}